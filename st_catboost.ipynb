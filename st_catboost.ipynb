{
 "cells": [
  {
   "cell_type": "code",
   "execution_count": 1,
   "id": "86eca816",
   "metadata": {
    "ExecuteTime": {
     "end_time": "2024-01-27T09:47:21.611822800Z",
     "start_time": "2024-01-27T09:47:21.604999100Z"
    },
    "_cell_guid": "b1076dfc-b9ad-4769-8c92-a6c4dae69d19",
    "_uuid": "8f2839f25d086af736a60e9eeb907d3b93b6e0e5",
    "execution": {
     "iopub.execute_input": "2024-01-27T10:04:34.286283Z",
     "iopub.status.busy": "2024-01-27T10:04:34.286283Z",
     "iopub.status.idle": "2024-01-27T10:04:36.321884Z",
     "shell.execute_reply": "2024-01-27T10:04:36.321884Z"
    },
    "papermill": {
     "duration": 2.035601,
     "end_time": "2024-01-27T10:04:36.321884",
     "exception": false,
     "start_time": "2024-01-27T10:04:34.286283",
     "status": "completed"
    },
    "tags": []
   },
   "outputs": [],
   "source": [
    "import numpy as np # linear algebra\n",
    "import pandas as pd \n",
    "import matplotlib.pyplot as plt\n",
    "import seaborn as sns\n",
    "sns.set()"
   ]
  },
  {
   "cell_type": "code",
   "execution_count": 2,
   "id": "4d6b99c9",
   "metadata": {
    "ExecuteTime": {
     "end_time": "2024-01-27T09:47:21.645434500Z",
     "start_time": "2024-01-27T09:47:21.617333700Z"
    },
    "execution": {
     "iopub.execute_input": "2024-01-27T10:04:36.330393Z",
     "iopub.status.busy": "2024-01-27T10:04:36.330393Z",
     "iopub.status.idle": "2024-01-27T10:04:36.392541Z",
     "shell.execute_reply": "2024-01-27T10:04:36.392541Z"
    },
    "papermill": {
     "duration": 0.070657,
     "end_time": "2024-01-27T10:04:36.392541",
     "exception": false,
     "start_time": "2024-01-27T10:04:36.321884",
     "status": "completed"
    },
    "tags": []
   },
   "outputs": [],
   "source": [
    "test = pd.read_csv('data/prepared/test_prep.csv').copy()\n",
    "train = pd.read_csv('data/prepared/train_prep.csv')"
   ]
  },
  {
   "cell_type": "code",
   "execution_count": 3,
   "id": "a04e4ec2",
   "metadata": {
    "ExecuteTime": {
     "end_time": "2024-01-27T09:47:21.684209300Z",
     "start_time": "2024-01-27T09:47:21.648942300Z"
    },
    "execution": {
     "iopub.execute_input": "2024-01-27T10:04:36.398051Z",
     "iopub.status.busy": "2024-01-27T10:04:36.398051Z",
     "iopub.status.idle": "2024-01-27T10:04:36.439759Z",
     "shell.execute_reply": "2024-01-27T10:04:36.439759Z"
    },
    "papermill": {
     "duration": 0.041708,
     "end_time": "2024-01-27T10:04:36.439759",
     "exception": false,
     "start_time": "2024-01-27T10:04:36.398051",
     "status": "completed"
    },
    "tags": []
   },
   "outputs": [
    {
     "data": {
      "text/html": [
       "<div>\n",
       "<style scoped>\n",
       "    .dataframe tbody tr th:only-of-type {\n",
       "        vertical-align: middle;\n",
       "    }\n",
       "\n",
       "    .dataframe tbody tr th {\n",
       "        vertical-align: top;\n",
       "    }\n",
       "\n",
       "    .dataframe thead th {\n",
       "        text-align: right;\n",
       "    }\n",
       "</style>\n",
       "<table border=\"1\" class=\"dataframe\">\n",
       "  <thead>\n",
       "    <tr style=\"text-align: right;\">\n",
       "      <th></th>\n",
       "      <th>Unnamed: 0</th>\n",
       "      <th>HomePlanet</th>\n",
       "      <th>CryoSleep</th>\n",
       "      <th>Destination</th>\n",
       "      <th>Age</th>\n",
       "      <th>VIP</th>\n",
       "      <th>RoomService</th>\n",
       "      <th>FoodCourt</th>\n",
       "      <th>ShoppingMall</th>\n",
       "      <th>Spa</th>\n",
       "      <th>VRDeck</th>\n",
       "      <th>Transported</th>\n",
       "      <th>Side</th>\n",
       "    </tr>\n",
       "  </thead>\n",
       "  <tbody>\n",
       "    <tr>\n",
       "      <th>0</th>\n",
       "      <td>0</td>\n",
       "      <td>2.0</td>\n",
       "      <td>0.0</td>\n",
       "      <td>1.0</td>\n",
       "      <td>39.0</td>\n",
       "      <td>0.0</td>\n",
       "      <td>0.0</td>\n",
       "      <td>0.0</td>\n",
       "      <td>0.0</td>\n",
       "      <td>0.0</td>\n",
       "      <td>0.0</td>\n",
       "      <td>0.0</td>\n",
       "      <td>0.0</td>\n",
       "    </tr>\n",
       "    <tr>\n",
       "      <th>1</th>\n",
       "      <td>1</td>\n",
       "      <td>1.0</td>\n",
       "      <td>0.0</td>\n",
       "      <td>1.0</td>\n",
       "      <td>24.0</td>\n",
       "      <td>0.0</td>\n",
       "      <td>109.0</td>\n",
       "      <td>9.0</td>\n",
       "      <td>25.0</td>\n",
       "      <td>549.0</td>\n",
       "      <td>44.0</td>\n",
       "      <td>1.0</td>\n",
       "      <td>1.0</td>\n",
       "    </tr>\n",
       "    <tr>\n",
       "      <th>2</th>\n",
       "      <td>2</td>\n",
       "      <td>2.0</td>\n",
       "      <td>0.0</td>\n",
       "      <td>1.0</td>\n",
       "      <td>58.0</td>\n",
       "      <td>1.0</td>\n",
       "      <td>43.0</td>\n",
       "      <td>3576.0</td>\n",
       "      <td>0.0</td>\n",
       "      <td>6715.0</td>\n",
       "      <td>49.0</td>\n",
       "      <td>0.0</td>\n",
       "      <td>1.0</td>\n",
       "    </tr>\n",
       "    <tr>\n",
       "      <th>3</th>\n",
       "      <td>3</td>\n",
       "      <td>2.0</td>\n",
       "      <td>0.0</td>\n",
       "      <td>1.0</td>\n",
       "      <td>33.0</td>\n",
       "      <td>0.0</td>\n",
       "      <td>0.0</td>\n",
       "      <td>1283.0</td>\n",
       "      <td>371.0</td>\n",
       "      <td>3329.0</td>\n",
       "      <td>193.0</td>\n",
       "      <td>0.0</td>\n",
       "      <td>1.0</td>\n",
       "    </tr>\n",
       "    <tr>\n",
       "      <th>4</th>\n",
       "      <td>4</td>\n",
       "      <td>1.0</td>\n",
       "      <td>0.0</td>\n",
       "      <td>1.0</td>\n",
       "      <td>16.0</td>\n",
       "      <td>0.0</td>\n",
       "      <td>303.0</td>\n",
       "      <td>70.0</td>\n",
       "      <td>151.0</td>\n",
       "      <td>565.0</td>\n",
       "      <td>2.0</td>\n",
       "      <td>1.0</td>\n",
       "      <td>1.0</td>\n",
       "    </tr>\n",
       "    <tr>\n",
       "      <th>5</th>\n",
       "      <td>5</td>\n",
       "      <td>1.0</td>\n",
       "      <td>0.0</td>\n",
       "      <td>3.0</td>\n",
       "      <td>44.0</td>\n",
       "      <td>0.0</td>\n",
       "      <td>0.0</td>\n",
       "      <td>483.0</td>\n",
       "      <td>0.0</td>\n",
       "      <td>291.0</td>\n",
       "      <td>0.0</td>\n",
       "      <td>1.0</td>\n",
       "      <td>0.0</td>\n",
       "    </tr>\n",
       "    <tr>\n",
       "      <th>6</th>\n",
       "      <td>6</td>\n",
       "      <td>1.0</td>\n",
       "      <td>0.0</td>\n",
       "      <td>1.0</td>\n",
       "      <td>26.0</td>\n",
       "      <td>0.0</td>\n",
       "      <td>42.0</td>\n",
       "      <td>1539.0</td>\n",
       "      <td>3.0</td>\n",
       "      <td>0.0</td>\n",
       "      <td>0.0</td>\n",
       "      <td>1.0</td>\n",
       "      <td>1.0</td>\n",
       "    </tr>\n",
       "    <tr>\n",
       "      <th>7</th>\n",
       "      <td>7</td>\n",
       "      <td>1.0</td>\n",
       "      <td>1.0</td>\n",
       "      <td>1.0</td>\n",
       "      <td>28.0</td>\n",
       "      <td>0.0</td>\n",
       "      <td>0.0</td>\n",
       "      <td>0.0</td>\n",
       "      <td>0.0</td>\n",
       "      <td>0.0</td>\n",
       "      <td>0.0</td>\n",
       "      <td>1.0</td>\n",
       "      <td>1.0</td>\n",
       "    </tr>\n",
       "    <tr>\n",
       "      <th>8</th>\n",
       "      <td>8</td>\n",
       "      <td>1.0</td>\n",
       "      <td>0.0</td>\n",
       "      <td>1.0</td>\n",
       "      <td>35.0</td>\n",
       "      <td>0.0</td>\n",
       "      <td>0.0</td>\n",
       "      <td>785.0</td>\n",
       "      <td>17.0</td>\n",
       "      <td>216.0</td>\n",
       "      <td>0.0</td>\n",
       "      <td>1.0</td>\n",
       "      <td>1.0</td>\n",
       "    </tr>\n",
       "    <tr>\n",
       "      <th>9</th>\n",
       "      <td>9</td>\n",
       "      <td>2.0</td>\n",
       "      <td>1.0</td>\n",
       "      <td>2.0</td>\n",
       "      <td>14.0</td>\n",
       "      <td>0.0</td>\n",
       "      <td>0.0</td>\n",
       "      <td>0.0</td>\n",
       "      <td>0.0</td>\n",
       "      <td>0.0</td>\n",
       "      <td>0.0</td>\n",
       "      <td>1.0</td>\n",
       "      <td>0.0</td>\n",
       "    </tr>\n",
       "  </tbody>\n",
       "</table>\n",
       "</div>"
      ],
      "text/plain": [
       "   Unnamed: 0  HomePlanet  CryoSleep  Destination   Age  VIP  RoomService  \\\n",
       "0           0         2.0        0.0          1.0  39.0  0.0          0.0   \n",
       "1           1         1.0        0.0          1.0  24.0  0.0        109.0   \n",
       "2           2         2.0        0.0          1.0  58.0  1.0         43.0   \n",
       "3           3         2.0        0.0          1.0  33.0  0.0          0.0   \n",
       "4           4         1.0        0.0          1.0  16.0  0.0        303.0   \n",
       "5           5         1.0        0.0          3.0  44.0  0.0          0.0   \n",
       "6           6         1.0        0.0          1.0  26.0  0.0         42.0   \n",
       "7           7         1.0        1.0          1.0  28.0  0.0          0.0   \n",
       "8           8         1.0        0.0          1.0  35.0  0.0          0.0   \n",
       "9           9         2.0        1.0          2.0  14.0  0.0          0.0   \n",
       "\n",
       "   FoodCourt  ShoppingMall     Spa  VRDeck  Transported  Side  \n",
       "0        0.0           0.0     0.0     0.0          0.0   0.0  \n",
       "1        9.0          25.0   549.0    44.0          1.0   1.0  \n",
       "2     3576.0           0.0  6715.0    49.0          0.0   1.0  \n",
       "3     1283.0         371.0  3329.0   193.0          0.0   1.0  \n",
       "4       70.0         151.0   565.0     2.0          1.0   1.0  \n",
       "5      483.0           0.0   291.0     0.0          1.0   0.0  \n",
       "6     1539.0           3.0     0.0     0.0          1.0   1.0  \n",
       "7        0.0           0.0     0.0     0.0          1.0   1.0  \n",
       "8      785.0          17.0   216.0     0.0          1.0   1.0  \n",
       "9        0.0           0.0     0.0     0.0          1.0   0.0  "
      ]
     },
     "execution_count": 3,
     "metadata": {},
     "output_type": "execute_result"
    }
   ],
   "source": [
    "train.head(10)"
   ]
  },
  {
   "cell_type": "code",
   "execution_count": 4,
   "id": "c4bc1933",
   "metadata": {
    "ExecuteTime": {
     "end_time": "2024-01-27T09:47:21.940538500Z",
     "start_time": "2024-01-27T09:47:21.684209300Z"
    },
    "collapsed": false,
    "execution": {
     "iopub.execute_input": "2024-01-27T10:04:36.445269Z",
     "iopub.status.busy": "2024-01-27T10:04:36.445269Z",
     "iopub.status.idle": "2024-01-27T10:04:36.595416Z",
     "shell.execute_reply": "2024-01-27T10:04:36.595416Z"
    },
    "papermill": {
     "duration": 0.150147,
     "end_time": "2024-01-27T10:04:36.595416",
     "exception": false,
     "start_time": "2024-01-27T10:04:36.445269",
     "status": "completed"
    },
    "tags": []
   },
   "outputs": [],
   "source": [
    "from sklearn.preprocessing import StandardScaler\n",
    "sc = StandardScaler()\n",
    "X_train = train.drop('Transported', axis = 1)\n",
    "y_train = train['Transported']\n",
    "X_test = test.copy()\n",
    "X_train = sc.fit_transform(X_train)\n",
    "X_test = sc.transform(X_test)"
   ]
  },
  {
   "cell_type": "code",
   "execution_count": 5,
   "id": "2a628d55",
   "metadata": {
    "ExecuteTime": {
     "end_time": "2024-01-27T09:47:30.527131400Z",
     "start_time": "2024-01-27T09:47:30.001522600Z"
    },
    "execution": {
     "iopub.execute_input": "2024-01-27T10:04:36.602424Z",
     "iopub.status.busy": "2024-01-27T10:04:36.602424Z",
     "iopub.status.idle": "2024-01-27T10:04:36.836090Z",
     "shell.execute_reply": "2024-01-27T10:04:36.836090Z"
    },
    "papermill": {
     "duration": 0.235171,
     "end_time": "2024-01-27T10:04:36.837595",
     "exception": false,
     "start_time": "2024-01-27T10:04:36.602424",
     "status": "completed"
    },
    "tags": []
   },
   "outputs": [],
   "source": [
    "from catboost import CatBoostClassifier\n",
    "from sklearn.model_selection import train_test_split\n",
    "from sklearn.metrics import accuracy_score"
   ]
  },
  {
   "cell_type": "code",
   "execution_count": 6,
   "id": "3cbe438a",
   "metadata": {
    "ExecuteTime": {
     "end_time": "2024-01-27T09:47:30.574446700Z",
     "start_time": "2024-01-27T09:47:30.542761200Z"
    },
    "execution": {
     "iopub.execute_input": "2024-01-27T10:04:36.853221Z",
     "iopub.status.busy": "2024-01-27T10:04:36.853221Z",
     "iopub.status.idle": "2024-01-27T10:04:36.862982Z",
     "shell.execute_reply": "2024-01-27T10:04:36.862982Z"
    },
    "papermill": {
     "duration": 0.025387,
     "end_time": "2024-01-27T10:04:36.862982",
     "exception": false,
     "start_time": "2024-01-27T10:04:36.837595",
     "status": "completed"
    },
    "tags": []
   },
   "outputs": [],
   "source": [
    "X_train, X_val, y_train,y_val = train_test_split(X_train, y_train, test_size = 0.3)"
   ]
  },
  {
   "cell_type": "markdown",
   "id": "3f220f8c",
   "metadata": {
    "papermill": {
     "duration": 0.0,
     "end_time": "2024-01-27T10:04:36.868988",
     "exception": false,
     "start_time": "2024-01-27T10:04:36.868988",
     "status": "completed"
    },
    "tags": []
   },
   "source": [
    "# CatBoostClassifier"
   ]
  },
  {
   "cell_type": "code",
   "execution_count": 7,
   "id": "8dcc002e",
   "metadata": {
    "ExecuteTime": {
     "end_time": "2024-01-27T09:48:01.919166500Z",
     "start_time": "2024-01-27T09:47:50.520433900Z"
    },
    "execution": {
     "iopub.execute_input": "2024-01-27T10:04:36.885006Z",
     "iopub.status.busy": "2024-01-27T10:04:36.885006Z",
     "iopub.status.idle": "2024-01-27T10:04:41.181408Z",
     "shell.execute_reply": "2024-01-27T10:04:41.181408Z"
    },
    "papermill": {
     "duration": 4.314432,
     "end_time": "2024-01-27T10:04:41.183420",
     "exception": false,
     "start_time": "2024-01-27T10:04:36.868988",
     "status": "completed"
    },
    "tags": []
   },
   "outputs": [],
   "source": [
    "clf =  CatBoostClassifier(logging_level = \"Silent\")\n",
    "clf.fit(X_train,y_train)\n",
    "pred = clf.predict(X_val)\n",
    "acc_cbc = accuracy_score(y_val,pred)"
   ]
  },
  {
   "cell_type": "code",
   "execution_count": 8,
   "id": "5b043c13",
   "metadata": {
    "ExecuteTime": {
     "end_time": "2024-01-27T09:48:05.501623800Z",
     "start_time": "2024-01-27T09:48:05.485713400Z"
    },
    "execution": {
     "iopub.execute_input": "2024-01-27T10:04:41.199439Z",
     "iopub.status.busy": "2024-01-27T10:04:41.199439Z",
     "iopub.status.idle": "2024-01-27T10:04:41.208293Z",
     "shell.execute_reply": "2024-01-27T10:04:41.208293Z"
    },
    "papermill": {
     "duration": 0.018864,
     "end_time": "2024-01-27T10:04:41.208293",
     "exception": false,
     "start_time": "2024-01-27T10:04:41.189429",
     "status": "completed"
    },
    "tags": []
   },
   "outputs": [],
   "source": [
    "f_importances_cbc = pd.DataFrame( data = {\n",
    "    'Feature': train.columns.drop('Transported'),\n",
    "    'Importance': clf.feature_importances_\n",
    "})"
   ]
  },
  {
   "cell_type": "code",
   "execution_count": 9,
   "id": "2e44bb7c",
   "metadata": {
    "ExecuteTime": {
     "end_time": "2024-01-27T09:48:07.245038700Z",
     "start_time": "2024-01-27T09:48:07.213315500Z"
    },
    "collapsed": false,
    "execution": {
     "iopub.execute_input": "2024-01-27T10:04:41.215305Z",
     "iopub.status.busy": "2024-01-27T10:04:41.215305Z",
     "iopub.status.idle": "2024-01-27T10:04:41.235759Z",
     "shell.execute_reply": "2024-01-27T10:04:41.235759Z"
    },
    "papermill": {
     "duration": 0.020454,
     "end_time": "2024-01-27T10:04:41.235759",
     "exception": false,
     "start_time": "2024-01-27T10:04:41.215305",
     "status": "completed"
    },
    "tags": []
   },
   "outputs": [
    {
     "data": {
      "text/html": [
       "<div>\n",
       "<style scoped>\n",
       "    .dataframe tbody tr th:only-of-type {\n",
       "        vertical-align: middle;\n",
       "    }\n",
       "\n",
       "    .dataframe tbody tr th {\n",
       "        vertical-align: top;\n",
       "    }\n",
       "\n",
       "    .dataframe thead th {\n",
       "        text-align: right;\n",
       "    }\n",
       "</style>\n",
       "<table border=\"1\" class=\"dataframe\">\n",
       "  <thead>\n",
       "    <tr style=\"text-align: right;\">\n",
       "      <th></th>\n",
       "      <th>Feature</th>\n",
       "      <th>Importance</th>\n",
       "    </tr>\n",
       "  </thead>\n",
       "  <tbody>\n",
       "    <tr>\n",
       "      <th>0</th>\n",
       "      <td>Unnamed: 0</td>\n",
       "      <td>11.641160</td>\n",
       "    </tr>\n",
       "    <tr>\n",
       "      <th>1</th>\n",
       "      <td>HomePlanet</td>\n",
       "      <td>14.668248</td>\n",
       "    </tr>\n",
       "    <tr>\n",
       "      <th>2</th>\n",
       "      <td>CryoSleep</td>\n",
       "      <td>9.400830</td>\n",
       "    </tr>\n",
       "    <tr>\n",
       "      <th>3</th>\n",
       "      <td>Destination</td>\n",
       "      <td>3.629641</td>\n",
       "    </tr>\n",
       "    <tr>\n",
       "      <th>4</th>\n",
       "      <td>Age</td>\n",
       "      <td>9.915187</td>\n",
       "    </tr>\n",
       "    <tr>\n",
       "      <th>5</th>\n",
       "      <td>VIP</td>\n",
       "      <td>0.287923</td>\n",
       "    </tr>\n",
       "    <tr>\n",
       "      <th>6</th>\n",
       "      <td>RoomService</td>\n",
       "      <td>8.635198</td>\n",
       "    </tr>\n",
       "    <tr>\n",
       "      <th>7</th>\n",
       "      <td>FoodCourt</td>\n",
       "      <td>8.938589</td>\n",
       "    </tr>\n",
       "    <tr>\n",
       "      <th>8</th>\n",
       "      <td>ShoppingMall</td>\n",
       "      <td>5.584705</td>\n",
       "    </tr>\n",
       "    <tr>\n",
       "      <th>9</th>\n",
       "      <td>Spa</td>\n",
       "      <td>11.371855</td>\n",
       "    </tr>\n",
       "    <tr>\n",
       "      <th>10</th>\n",
       "      <td>VRDeck</td>\n",
       "      <td>10.809129</td>\n",
       "    </tr>\n",
       "    <tr>\n",
       "      <th>11</th>\n",
       "      <td>Side</td>\n",
       "      <td>5.117535</td>\n",
       "    </tr>\n",
       "  </tbody>\n",
       "</table>\n",
       "</div>"
      ],
      "text/plain": [
       "         Feature  Importance\n",
       "0     Unnamed: 0   11.641160\n",
       "1     HomePlanet   14.668248\n",
       "2      CryoSleep    9.400830\n",
       "3    Destination    3.629641\n",
       "4            Age    9.915187\n",
       "5            VIP    0.287923\n",
       "6    RoomService    8.635198\n",
       "7      FoodCourt    8.938589\n",
       "8   ShoppingMall    5.584705\n",
       "9            Spa   11.371855\n",
       "10        VRDeck   10.809129\n",
       "11          Side    5.117535"
      ]
     },
     "execution_count": 9,
     "metadata": {},
     "output_type": "execute_result"
    }
   ],
   "source": [
    "f_importances_cbc"
   ]
  },
  {
   "cell_type": "code",
   "execution_count": 10,
   "id": "032d47db",
   "metadata": {
    "ExecuteTime": {
     "end_time": "2024-01-27T09:48:35.340431200Z",
     "start_time": "2024-01-27T09:48:35.324409400Z"
    },
    "collapsed": false,
    "execution": {
     "iopub.execute_input": "2024-01-27T10:04:41.246768Z",
     "iopub.status.busy": "2024-01-27T10:04:41.246768Z",
     "iopub.status.idle": "2024-01-27T10:04:41.258839Z",
     "shell.execute_reply": "2024-01-27T10:04:41.258839Z"
    },
    "papermill": {
     "duration": 0.012071,
     "end_time": "2024-01-27T10:04:41.258839",
     "exception": false,
     "start_time": "2024-01-27T10:04:41.246768",
     "status": "completed"
    },
    "tags": []
   },
   "outputs": [],
   "source": [
    "import os"
   ]
  },
  {
   "cell_type": "code",
   "execution_count": 11,
   "id": "6da5a787",
   "metadata": {
    "ExecuteTime": {
     "end_time": "2024-01-27T09:48:46.782588600Z",
     "start_time": "2024-01-27T09:48:46.719526200Z"
    },
    "collapsed": false,
    "execution": {
     "iopub.execute_input": "2024-01-27T10:04:41.262848Z",
     "iopub.status.busy": "2024-01-27T10:04:41.262848Z",
     "iopub.status.idle": "2024-01-27T10:04:41.286997Z",
     "shell.execute_reply": "2024-01-27T10:04:41.286997Z"
    },
    "papermill": {
     "duration": 0.026663,
     "end_time": "2024-01-27T10:04:41.289511",
     "exception": false,
     "start_time": "2024-01-27T10:04:41.262848",
     "status": "completed"
    },
    "tags": []
   },
   "outputs": [
    {
     "name": "stdout",
     "output_type": "stream",
     "text": [
      "done\n"
     ]
    }
   ],
   "source": [
    "output = os.path.join(\"model_results\", \"catboost_importances.csv\")\n",
    "\n",
    "fd_out = open(output, \"w\", encoding=\"utf-8\")\n",
    "\n",
    "fd_out.write(f_importances_cbc.to_csv())\n",
    "\n",
    "print('done')"
   ]
  }
 ],
 "metadata": {
  "kernelspec": {
   "display_name": "Python 3 (ipykernel)",
   "language": "python",
   "name": "python3"
  },
  "language_info": {
   "codemirror_mode": {
    "name": "ipython",
    "version": 3
   },
   "file_extension": ".py",
   "mimetype": "text/x-python",
   "name": "python",
   "nbconvert_exporter": "python",
   "pygments_lexer": "ipython3",
   "version": "3.11.5"
  },
  "papermill": {
   "default_parameters": {},
   "duration": 9.345114,
   "end_time": "2024-01-27T10:04:41.859046",
   "environment_variables": {},
   "exception": null,
   "input_path": "C:\\Users\\kate\\DataspellProjects\\pythonProject\\st_catboost.ipynb",
   "output_path": "C:\\Users\\kate\\DataspellProjects\\pythonProject\\st_catboost.ipynb",
   "parameters": {},
   "start_time": "2024-01-27T10:04:32.513932",
   "version": "2.5.0"
  }
 },
 "nbformat": 4,
 "nbformat_minor": 5
}