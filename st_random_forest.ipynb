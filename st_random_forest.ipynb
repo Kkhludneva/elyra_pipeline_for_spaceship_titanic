{
 "cells": [
  {
   "cell_type": "code",
   "execution_count": 1,
   "id": "713f7abb",
   "metadata": {
    "ExecuteTime": {
     "end_time": "2024-01-27T09:34:21.302082800Z",
     "start_time": "2024-01-27T09:34:21.270538700Z"
    },
    "_cell_guid": "b1076dfc-b9ad-4769-8c92-a6c4dae69d19",
    "_uuid": "8f2839f25d086af736a60e9eeb907d3b93b6e0e5",
    "execution": {
     "iopub.execute_input": "2024-01-27T10:04:48.625203Z",
     "iopub.status.busy": "2024-01-27T10:04:48.625203Z",
     "iopub.status.idle": "2024-01-27T10:04:50.626895Z",
     "shell.execute_reply": "2024-01-27T10:04:50.626895Z"
    },
    "papermill": {
     "duration": 2.001692,
     "end_time": "2024-01-27T10:04:50.626895",
     "exception": false,
     "start_time": "2024-01-27T10:04:48.625203",
     "status": "completed"
    },
    "tags": []
   },
   "outputs": [],
   "source": [
    "import numpy as np # linear algebra\n",
    "import pandas as pd \n",
    "import matplotlib.pyplot as plt\n",
    "import seaborn as sns\n",
    "sns.set()"
   ]
  },
  {
   "cell_type": "code",
   "execution_count": 2,
   "id": "89c5c400",
   "metadata": {
    "ExecuteTime": {
     "end_time": "2024-01-27T09:34:21.507123200Z",
     "start_time": "2024-01-27T09:34:21.444143Z"
    },
    "execution": {
     "iopub.execute_input": "2024-01-27T10:04:50.637401Z",
     "iopub.status.busy": "2024-01-27T10:04:50.637401Z",
     "iopub.status.idle": "2024-01-27T10:04:50.666194Z",
     "shell.execute_reply": "2024-01-27T10:04:50.666194Z"
    },
    "papermill": {
     "duration": 0.041809,
     "end_time": "2024-01-27T10:04:50.668704",
     "exception": false,
     "start_time": "2024-01-27T10:04:50.626895",
     "status": "completed"
    },
    "tags": []
   },
   "outputs": [],
   "source": [
    "test = pd.read_csv('data/prepared/test_prep.csv').copy()\n",
    "train = pd.read_csv('data/prepared/train_prep.csv')"
   ]
  },
  {
   "cell_type": "code",
   "execution_count": 3,
   "id": "6f29fe5b",
   "metadata": {
    "ExecuteTime": {
     "end_time": "2024-01-27T09:34:21.775888200Z",
     "start_time": "2024-01-27T09:34:21.680485500Z"
    },
    "execution": {
     "iopub.execute_input": "2024-01-27T10:04:50.668704Z",
     "iopub.status.busy": "2024-01-27T10:04:50.668704Z",
     "iopub.status.idle": "2024-01-27T10:04:50.715038Z",
     "shell.execute_reply": "2024-01-27T10:04:50.715038Z"
    },
    "papermill": {
     "duration": 0.04734,
     "end_time": "2024-01-27T10:04:50.716044",
     "exception": false,
     "start_time": "2024-01-27T10:04:50.668704",
     "status": "completed"
    },
    "tags": []
   },
   "outputs": [
    {
     "data": {
      "text/html": [
       "<div>\n",
       "<style scoped>\n",
       "    .dataframe tbody tr th:only-of-type {\n",
       "        vertical-align: middle;\n",
       "    }\n",
       "\n",
       "    .dataframe tbody tr th {\n",
       "        vertical-align: top;\n",
       "    }\n",
       "\n",
       "    .dataframe thead th {\n",
       "        text-align: right;\n",
       "    }\n",
       "</style>\n",
       "<table border=\"1\" class=\"dataframe\">\n",
       "  <thead>\n",
       "    <tr style=\"text-align: right;\">\n",
       "      <th></th>\n",
       "      <th>Unnamed: 0</th>\n",
       "      <th>HomePlanet</th>\n",
       "      <th>CryoSleep</th>\n",
       "      <th>Destination</th>\n",
       "      <th>Age</th>\n",
       "      <th>VIP</th>\n",
       "      <th>RoomService</th>\n",
       "      <th>FoodCourt</th>\n",
       "      <th>ShoppingMall</th>\n",
       "      <th>Spa</th>\n",
       "      <th>VRDeck</th>\n",
       "      <th>Transported</th>\n",
       "      <th>Side</th>\n",
       "    </tr>\n",
       "  </thead>\n",
       "  <tbody>\n",
       "    <tr>\n",
       "      <th>0</th>\n",
       "      <td>0</td>\n",
       "      <td>2.0</td>\n",
       "      <td>0.0</td>\n",
       "      <td>1.0</td>\n",
       "      <td>39.0</td>\n",
       "      <td>0.0</td>\n",
       "      <td>0.0</td>\n",
       "      <td>0.0</td>\n",
       "      <td>0.0</td>\n",
       "      <td>0.0</td>\n",
       "      <td>0.0</td>\n",
       "      <td>0.0</td>\n",
       "      <td>0.0</td>\n",
       "    </tr>\n",
       "    <tr>\n",
       "      <th>1</th>\n",
       "      <td>1</td>\n",
       "      <td>1.0</td>\n",
       "      <td>0.0</td>\n",
       "      <td>1.0</td>\n",
       "      <td>24.0</td>\n",
       "      <td>0.0</td>\n",
       "      <td>109.0</td>\n",
       "      <td>9.0</td>\n",
       "      <td>25.0</td>\n",
       "      <td>549.0</td>\n",
       "      <td>44.0</td>\n",
       "      <td>1.0</td>\n",
       "      <td>1.0</td>\n",
       "    </tr>\n",
       "    <tr>\n",
       "      <th>2</th>\n",
       "      <td>2</td>\n",
       "      <td>2.0</td>\n",
       "      <td>0.0</td>\n",
       "      <td>1.0</td>\n",
       "      <td>58.0</td>\n",
       "      <td>1.0</td>\n",
       "      <td>43.0</td>\n",
       "      <td>3576.0</td>\n",
       "      <td>0.0</td>\n",
       "      <td>6715.0</td>\n",
       "      <td>49.0</td>\n",
       "      <td>0.0</td>\n",
       "      <td>1.0</td>\n",
       "    </tr>\n",
       "    <tr>\n",
       "      <th>3</th>\n",
       "      <td>3</td>\n",
       "      <td>2.0</td>\n",
       "      <td>0.0</td>\n",
       "      <td>1.0</td>\n",
       "      <td>33.0</td>\n",
       "      <td>0.0</td>\n",
       "      <td>0.0</td>\n",
       "      <td>1283.0</td>\n",
       "      <td>371.0</td>\n",
       "      <td>3329.0</td>\n",
       "      <td>193.0</td>\n",
       "      <td>0.0</td>\n",
       "      <td>1.0</td>\n",
       "    </tr>\n",
       "    <tr>\n",
       "      <th>4</th>\n",
       "      <td>4</td>\n",
       "      <td>1.0</td>\n",
       "      <td>0.0</td>\n",
       "      <td>1.0</td>\n",
       "      <td>16.0</td>\n",
       "      <td>0.0</td>\n",
       "      <td>303.0</td>\n",
       "      <td>70.0</td>\n",
       "      <td>151.0</td>\n",
       "      <td>565.0</td>\n",
       "      <td>2.0</td>\n",
       "      <td>1.0</td>\n",
       "      <td>1.0</td>\n",
       "    </tr>\n",
       "    <tr>\n",
       "      <th>5</th>\n",
       "      <td>5</td>\n",
       "      <td>1.0</td>\n",
       "      <td>0.0</td>\n",
       "      <td>3.0</td>\n",
       "      <td>44.0</td>\n",
       "      <td>0.0</td>\n",
       "      <td>0.0</td>\n",
       "      <td>483.0</td>\n",
       "      <td>0.0</td>\n",
       "      <td>291.0</td>\n",
       "      <td>0.0</td>\n",
       "      <td>1.0</td>\n",
       "      <td>0.0</td>\n",
       "    </tr>\n",
       "    <tr>\n",
       "      <th>6</th>\n",
       "      <td>6</td>\n",
       "      <td>1.0</td>\n",
       "      <td>0.0</td>\n",
       "      <td>1.0</td>\n",
       "      <td>26.0</td>\n",
       "      <td>0.0</td>\n",
       "      <td>42.0</td>\n",
       "      <td>1539.0</td>\n",
       "      <td>3.0</td>\n",
       "      <td>0.0</td>\n",
       "      <td>0.0</td>\n",
       "      <td>1.0</td>\n",
       "      <td>1.0</td>\n",
       "    </tr>\n",
       "    <tr>\n",
       "      <th>7</th>\n",
       "      <td>7</td>\n",
       "      <td>1.0</td>\n",
       "      <td>1.0</td>\n",
       "      <td>1.0</td>\n",
       "      <td>28.0</td>\n",
       "      <td>0.0</td>\n",
       "      <td>0.0</td>\n",
       "      <td>0.0</td>\n",
       "      <td>0.0</td>\n",
       "      <td>0.0</td>\n",
       "      <td>0.0</td>\n",
       "      <td>1.0</td>\n",
       "      <td>1.0</td>\n",
       "    </tr>\n",
       "    <tr>\n",
       "      <th>8</th>\n",
       "      <td>8</td>\n",
       "      <td>1.0</td>\n",
       "      <td>0.0</td>\n",
       "      <td>1.0</td>\n",
       "      <td>35.0</td>\n",
       "      <td>0.0</td>\n",
       "      <td>0.0</td>\n",
       "      <td>785.0</td>\n",
       "      <td>17.0</td>\n",
       "      <td>216.0</td>\n",
       "      <td>0.0</td>\n",
       "      <td>1.0</td>\n",
       "      <td>1.0</td>\n",
       "    </tr>\n",
       "    <tr>\n",
       "      <th>9</th>\n",
       "      <td>9</td>\n",
       "      <td>2.0</td>\n",
       "      <td>1.0</td>\n",
       "      <td>2.0</td>\n",
       "      <td>14.0</td>\n",
       "      <td>0.0</td>\n",
       "      <td>0.0</td>\n",
       "      <td>0.0</td>\n",
       "      <td>0.0</td>\n",
       "      <td>0.0</td>\n",
       "      <td>0.0</td>\n",
       "      <td>1.0</td>\n",
       "      <td>0.0</td>\n",
       "    </tr>\n",
       "  </tbody>\n",
       "</table>\n",
       "</div>"
      ],
      "text/plain": [
       "   Unnamed: 0  HomePlanet  CryoSleep  Destination   Age  VIP  RoomService  \\\n",
       "0           0         2.0        0.0          1.0  39.0  0.0          0.0   \n",
       "1           1         1.0        0.0          1.0  24.0  0.0        109.0   \n",
       "2           2         2.0        0.0          1.0  58.0  1.0         43.0   \n",
       "3           3         2.0        0.0          1.0  33.0  0.0          0.0   \n",
       "4           4         1.0        0.0          1.0  16.0  0.0        303.0   \n",
       "5           5         1.0        0.0          3.0  44.0  0.0          0.0   \n",
       "6           6         1.0        0.0          1.0  26.0  0.0         42.0   \n",
       "7           7         1.0        1.0          1.0  28.0  0.0          0.0   \n",
       "8           8         1.0        0.0          1.0  35.0  0.0          0.0   \n",
       "9           9         2.0        1.0          2.0  14.0  0.0          0.0   \n",
       "\n",
       "   FoodCourt  ShoppingMall     Spa  VRDeck  Transported  Side  \n",
       "0        0.0           0.0     0.0     0.0          0.0   0.0  \n",
       "1        9.0          25.0   549.0    44.0          1.0   1.0  \n",
       "2     3576.0           0.0  6715.0    49.0          0.0   1.0  \n",
       "3     1283.0         371.0  3329.0   193.0          0.0   1.0  \n",
       "4       70.0         151.0   565.0     2.0          1.0   1.0  \n",
       "5      483.0           0.0   291.0     0.0          1.0   0.0  \n",
       "6     1539.0           3.0     0.0     0.0          1.0   1.0  \n",
       "7        0.0           0.0     0.0     0.0          1.0   1.0  \n",
       "8      785.0          17.0   216.0     0.0          1.0   1.0  \n",
       "9        0.0           0.0     0.0     0.0          1.0   0.0  "
      ]
     },
     "execution_count": 3,
     "metadata": {},
     "output_type": "execute_result"
    }
   ],
   "source": [
    "train.head(10)"
   ]
  },
  {
   "cell_type": "code",
   "execution_count": 4,
   "id": "519552dc",
   "metadata": {
    "ExecuteTime": {
     "end_time": "2024-01-27T09:34:22.298726300Z",
     "start_time": "2024-01-27T09:34:22.262609500Z"
    },
    "collapsed": false,
    "execution": {
     "iopub.execute_input": "2024-01-27T10:04:50.716044Z",
     "iopub.status.busy": "2024-01-27T10:04:50.716044Z",
     "iopub.status.idle": "2024-01-27T10:04:50.865496Z",
     "shell.execute_reply": "2024-01-27T10:04:50.865496Z"
    },
    "papermill": {
     "duration": 0.149452,
     "end_time": "2024-01-27T10:04:50.865496",
     "exception": false,
     "start_time": "2024-01-27T10:04:50.716044",
     "status": "completed"
    },
    "tags": []
   },
   "outputs": [],
   "source": [
    "from sklearn.preprocessing import StandardScaler\n",
    "sc = StandardScaler()\n",
    "X_train = train.drop('Transported', axis = 1)\n",
    "y_train = train['Transported']\n",
    "X_test = test.copy()\n",
    "X_train = sc.fit_transform(X_train)\n",
    "X_test = sc.transform(X_test)"
   ]
  },
  {
   "cell_type": "code",
   "execution_count": 5,
   "id": "8dd8543f",
   "metadata": {
    "ExecuteTime": {
     "end_time": "2024-01-27T09:34:23.482260800Z",
     "start_time": "2024-01-27T09:34:22.996108600Z"
    },
    "execution": {
     "iopub.execute_input": "2024-01-27T10:04:50.873002Z",
     "iopub.status.busy": "2024-01-27T10:04:50.873002Z",
     "iopub.status.idle": "2024-01-27T10:04:51.243222Z",
     "shell.execute_reply": "2024-01-27T10:04:51.243222Z"
    },
    "papermill": {
     "duration": 0.37022,
     "end_time": "2024-01-27T10:04:51.243222",
     "exception": false,
     "start_time": "2024-01-27T10:04:50.873002",
     "status": "completed"
    },
    "tags": []
   },
   "outputs": [],
   "source": [
    "from sklearn.ensemble import RandomForestClassifier\n",
    "from sklearn.model_selection import train_test_split\n",
    "from sklearn.metrics import accuracy_score"
   ]
  },
  {
   "cell_type": "code",
   "execution_count": 6,
   "id": "6161a963",
   "metadata": {
    "ExecuteTime": {
     "end_time": "2024-01-27T09:34:23.494770300Z",
     "start_time": "2024-01-27T09:34:23.468131800Z"
    },
    "execution": {
     "iopub.execute_input": "2024-01-27T10:04:51.249730Z",
     "iopub.status.busy": "2024-01-27T10:04:51.249730Z",
     "iopub.status.idle": "2024-01-27T10:04:51.265277Z",
     "shell.execute_reply": "2024-01-27T10:04:51.265277Z"
    },
    "papermill": {
     "duration": 0.015547,
     "end_time": "2024-01-27T10:04:51.265277",
     "exception": false,
     "start_time": "2024-01-27T10:04:51.249730",
     "status": "completed"
    },
    "tags": []
   },
   "outputs": [],
   "source": [
    "X_train, X_val, y_train,y_val = train_test_split(X_train, y_train, test_size = 0.3)"
   ]
  },
  {
   "cell_type": "markdown",
   "id": "e066585e",
   "metadata": {
    "papermill": {
     "duration": 0.0,
     "end_time": "2024-01-27T10:04:51.265277",
     "exception": false,
     "start_time": "2024-01-27T10:04:51.265277",
     "status": "completed"
    },
    "tags": []
   },
   "source": [
    "# RandomForestClassifier"
   ]
  },
  {
   "cell_type": "code",
   "execution_count": 7,
   "id": "92a7ba99",
   "metadata": {
    "ExecuteTime": {
     "end_time": "2024-01-27T09:34:34.241129700Z",
     "start_time": "2024-01-27T09:34:32.562011900Z"
    },
    "execution": {
     "iopub.execute_input": "2024-01-27T10:04:51.280904Z",
     "iopub.status.busy": "2024-01-27T10:04:51.280904Z",
     "iopub.status.idle": "2024-01-27T10:04:52.858945Z",
     "shell.execute_reply": "2024-01-27T10:04:52.858945Z"
    },
    "papermill": {
     "duration": 1.578041,
     "end_time": "2024-01-27T10:04:52.858945",
     "exception": false,
     "start_time": "2024-01-27T10:04:51.280904",
     "status": "completed"
    },
    "tags": []
   },
   "outputs": [
    {
     "name": "stdout",
     "output_type": "stream",
     "text": [
      "ACCURACY =  0.7944785276073619\n"
     ]
    }
   ],
   "source": [
    "clf =  RandomForestClassifier()\n",
    "clf.fit(X_train,y_train)\n",
    "pred = clf.predict(X_val)\n",
    "acc_rfc = accuracy_score(y_val,pred)\n",
    "\n",
    "print(\"ACCURACY = \", acc_rfc)"
   ]
  },
  {
   "cell_type": "code",
   "execution_count": 8,
   "id": "343e70f9",
   "metadata": {
    "ExecuteTime": {
     "end_time": "2024-01-27T09:34:59.648420400Z",
     "start_time": "2024-01-27T09:34:59.600807600Z"
    },
    "execution": {
     "iopub.execute_input": "2024-01-27T10:04:52.869953Z",
     "iopub.status.busy": "2024-01-27T10:04:52.869953Z",
     "iopub.status.idle": "2024-01-27T10:04:52.892593Z",
     "shell.execute_reply": "2024-01-27T10:04:52.892593Z"
    },
    "papermill": {
     "duration": 0.033648,
     "end_time": "2024-01-27T10:04:52.892593",
     "exception": false,
     "start_time": "2024-01-27T10:04:52.858945",
     "status": "completed"
    },
    "tags": []
   },
   "outputs": [],
   "source": [
    "f_importances_rcf = pd.DataFrame( data = {\n",
    "    'Feature': train.columns.drop('Transported'),\n",
    "    'Importance': clf.feature_importances_\n",
    "})"
   ]
  },
  {
   "cell_type": "code",
   "execution_count": 9,
   "id": "3b0db4f6",
   "metadata": {
    "ExecuteTime": {
     "end_time": "2024-01-27T09:35:10.214285500Z",
     "start_time": "2024-01-27T09:35:10.193145400Z"
    },
    "collapsed": false,
    "execution": {
     "iopub.execute_input": "2024-01-27T10:04:52.901599Z",
     "iopub.status.busy": "2024-01-27T10:04:52.901599Z",
     "iopub.status.idle": "2024-01-27T10:04:52.917636Z",
     "shell.execute_reply": "2024-01-27T10:04:52.917636Z"
    },
    "papermill": {
     "duration": 0.025043,
     "end_time": "2024-01-27T10:04:52.917636",
     "exception": false,
     "start_time": "2024-01-27T10:04:52.892593",
     "status": "completed"
    },
    "tags": []
   },
   "outputs": [
    {
     "data": {
      "text/html": [
       "<div>\n",
       "<style scoped>\n",
       "    .dataframe tbody tr th:only-of-type {\n",
       "        vertical-align: middle;\n",
       "    }\n",
       "\n",
       "    .dataframe tbody tr th {\n",
       "        vertical-align: top;\n",
       "    }\n",
       "\n",
       "    .dataframe thead th {\n",
       "        text-align: right;\n",
       "    }\n",
       "</style>\n",
       "<table border=\"1\" class=\"dataframe\">\n",
       "  <thead>\n",
       "    <tr style=\"text-align: right;\">\n",
       "      <th></th>\n",
       "      <th>Feature</th>\n",
       "      <th>Importance</th>\n",
       "    </tr>\n",
       "  </thead>\n",
       "  <tbody>\n",
       "    <tr>\n",
       "      <th>0</th>\n",
       "      <td>Unnamed: 0</td>\n",
       "      <td>0.182714</td>\n",
       "    </tr>\n",
       "    <tr>\n",
       "      <th>1</th>\n",
       "      <td>HomePlanet</td>\n",
       "      <td>0.052199</td>\n",
       "    </tr>\n",
       "    <tr>\n",
       "      <th>2</th>\n",
       "      <td>CryoSleep</td>\n",
       "      <td>0.116860</td>\n",
       "    </tr>\n",
       "    <tr>\n",
       "      <th>3</th>\n",
       "      <td>Destination</td>\n",
       "      <td>0.024460</td>\n",
       "    </tr>\n",
       "    <tr>\n",
       "      <th>4</th>\n",
       "      <td>Age</td>\n",
       "      <td>0.132709</td>\n",
       "    </tr>\n",
       "    <tr>\n",
       "      <th>5</th>\n",
       "      <td>VIP</td>\n",
       "      <td>0.002421</td>\n",
       "    </tr>\n",
       "    <tr>\n",
       "      <th>6</th>\n",
       "      <td>RoomService</td>\n",
       "      <td>0.107314</td>\n",
       "    </tr>\n",
       "    <tr>\n",
       "      <th>7</th>\n",
       "      <td>FoodCourt</td>\n",
       "      <td>0.082299</td>\n",
       "    </tr>\n",
       "    <tr>\n",
       "      <th>8</th>\n",
       "      <td>ShoppingMall</td>\n",
       "      <td>0.072317</td>\n",
       "    </tr>\n",
       "    <tr>\n",
       "      <th>9</th>\n",
       "      <td>Spa</td>\n",
       "      <td>0.107892</td>\n",
       "    </tr>\n",
       "    <tr>\n",
       "      <th>10</th>\n",
       "      <td>VRDeck</td>\n",
       "      <td>0.094126</td>\n",
       "    </tr>\n",
       "    <tr>\n",
       "      <th>11</th>\n",
       "      <td>Side</td>\n",
       "      <td>0.024689</td>\n",
       "    </tr>\n",
       "  </tbody>\n",
       "</table>\n",
       "</div>"
      ],
      "text/plain": [
       "         Feature  Importance\n",
       "0     Unnamed: 0    0.182714\n",
       "1     HomePlanet    0.052199\n",
       "2      CryoSleep    0.116860\n",
       "3    Destination    0.024460\n",
       "4            Age    0.132709\n",
       "5            VIP    0.002421\n",
       "6    RoomService    0.107314\n",
       "7      FoodCourt    0.082299\n",
       "8   ShoppingMall    0.072317\n",
       "9            Spa    0.107892\n",
       "10        VRDeck    0.094126\n",
       "11          Side    0.024689"
      ]
     },
     "execution_count": 9,
     "metadata": {},
     "output_type": "execute_result"
    }
   ],
   "source": [
    "f_importances_rcf"
   ]
  },
  {
   "cell_type": "code",
   "execution_count": 10,
   "id": "b54e8ed0",
   "metadata": {
    "ExecuteTime": {
     "end_time": "2024-01-27T09:37:36.555661700Z",
     "start_time": "2024-01-27T09:37:36.539590100Z"
    },
    "collapsed": false,
    "execution": {
     "iopub.execute_input": "2024-01-27T10:04:52.933145Z",
     "iopub.status.busy": "2024-01-27T10:04:52.933145Z",
     "iopub.status.idle": "2024-01-27T10:04:52.939878Z",
     "shell.execute_reply": "2024-01-27T10:04:52.939878Z"
    },
    "papermill": {
     "duration": 0.022242,
     "end_time": "2024-01-27T10:04:52.939878",
     "exception": false,
     "start_time": "2024-01-27T10:04:52.917636",
     "status": "completed"
    },
    "tags": []
   },
   "outputs": [],
   "source": [
    "import os"
   ]
  },
  {
   "cell_type": "code",
   "execution_count": 11,
   "id": "79da8be5",
   "metadata": {
    "ExecuteTime": {
     "end_time": "2024-01-27T09:37:36.949537800Z",
     "start_time": "2024-01-27T09:37:36.917953400Z"
    },
    "collapsed": false,
    "execution": {
     "iopub.execute_input": "2024-01-27T10:04:52.948885Z",
     "iopub.status.busy": "2024-01-27T10:04:52.948885Z",
     "iopub.status.idle": "2024-01-27T10:04:52.962826Z",
     "shell.execute_reply": "2024-01-27T10:04:52.962826Z"
    },
    "papermill": {
     "duration": 0.024956,
     "end_time": "2024-01-27T10:04:52.964834",
     "exception": false,
     "start_time": "2024-01-27T10:04:52.939878",
     "status": "completed"
    },
    "tags": []
   },
   "outputs": [
    {
     "name": "stdout",
     "output_type": "stream",
     "text": [
      "done\n"
     ]
    }
   ],
   "source": [
    "output = os.path.join(\"model_results\", \"random_forest_importances.csv\")\n",
    "\n",
    "fd_out = open(output, \"w\", encoding=\"utf-8\")\n",
    "\n",
    "fd_out.write(f_importances_rcf.to_csv())\n",
    "\n",
    "print('done')"
   ]
  }
 ],
 "metadata": {
  "kernelspec": {
   "display_name": "Python 3 (ipykernel)",
   "language": "python",
   "name": "python3"
  },
  "language_info": {
   "codemirror_mode": {
    "name": "ipython",
    "version": 3
   },
   "file_extension": ".py",
   "mimetype": "text/x-python",
   "name": "python",
   "nbconvert_exporter": "python",
   "pygments_lexer": "ipython3",
   "version": "3.11.5"
  },
  "papermill": {
   "default_parameters": {},
   "duration": 6.684619,
   "end_time": "2024-01-27T10:04:53.529905",
   "environment_variables": {},
   "exception": null,
   "input_path": "C:\\Users\\kate\\DataspellProjects\\pythonProject\\st_random_forest.ipynb",
   "output_path": "C:\\Users\\kate\\DataspellProjects\\pythonProject\\st_random_forest.ipynb",
   "parameters": {},
   "start_time": "2024-01-27T10:04:46.845286",
   "version": "2.5.0"
  }
 },
 "nbformat": 4,
 "nbformat_minor": 5
}