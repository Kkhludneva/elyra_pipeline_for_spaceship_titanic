{
 "cells": [
  {
   "cell_type": "code",
   "execution_count": 1,
   "id": "ec7c5049",
   "metadata": {
    "ExecuteTime": {
     "end_time": "2024-01-27T09:14:07.176783Z",
     "start_time": "2024-01-27T09:14:07.083374700Z"
    },
    "_cell_guid": "b1076dfc-b9ad-4769-8c92-a6c4dae69d19",
    "_uuid": "8f2839f25d086af736a60e9eeb907d3b93b6e0e5",
    "execution": {
     "iopub.execute_input": "2024-01-27T10:04:43.651317Z",
     "iopub.status.busy": "2024-01-27T10:04:43.651317Z",
     "iopub.status.idle": "2024-01-27T10:04:45.638828Z",
     "shell.execute_reply": "2024-01-27T10:04:45.638828Z"
    },
    "papermill": {
     "duration": 1.987511,
     "end_time": "2024-01-27T10:04:45.638828",
     "exception": false,
     "start_time": "2024-01-27T10:04:43.651317",
     "status": "completed"
    },
    "tags": []
   },
   "outputs": [],
   "source": [
    "import numpy as np # linear algebra\n",
    "import pandas as pd \n",
    "import matplotlib.pyplot as plt\n",
    "import seaborn as sns\n",
    "sns.set()"
   ]
  },
  {
   "cell_type": "code",
   "execution_count": 2,
   "id": "9d973bd6",
   "metadata": {
    "ExecuteTime": {
     "end_time": "2024-01-27T09:54:45.802113800Z",
     "start_time": "2024-01-27T09:54:45.723515300Z"
    },
    "execution": {
     "iopub.execute_input": "2024-01-27T10:04:45.648336Z",
     "iopub.status.busy": "2024-01-27T10:04:45.648336Z",
     "iopub.status.idle": "2024-01-27T10:04:45.683066Z",
     "shell.execute_reply": "2024-01-27T10:04:45.683066Z"
    },
    "papermill": {
     "duration": 0.03473,
     "end_time": "2024-01-27T10:04:45.683066",
     "exception": false,
     "start_time": "2024-01-27T10:04:45.648336",
     "status": "completed"
    },
    "tags": []
   },
   "outputs": [],
   "source": [
    "test = pd.read_csv('data/prepared/test_prep.csv').copy()\n",
    "train = pd.read_csv('data/prepared/train_prep.csv')"
   ]
  },
  {
   "cell_type": "code",
   "execution_count": 3,
   "id": "fd0fe891",
   "metadata": {
    "ExecuteTime": {
     "end_time": "2024-01-27T09:54:46.289345500Z",
     "start_time": "2024-01-27T09:54:46.243697100Z"
    },
    "execution": {
     "iopub.execute_input": "2024-01-27T10:04:45.697589Z",
     "iopub.status.busy": "2024-01-27T10:04:45.697589Z",
     "iopub.status.idle": "2024-01-27T10:04:45.730286Z",
     "shell.execute_reply": "2024-01-27T10:04:45.730286Z"
    },
    "papermill": {
     "duration": 0.04722,
     "end_time": "2024-01-27T10:04:45.730286",
     "exception": false,
     "start_time": "2024-01-27T10:04:45.683066",
     "status": "completed"
    },
    "tags": []
   },
   "outputs": [
    {
     "data": {
      "text/html": [
       "<div>\n",
       "<style scoped>\n",
       "    .dataframe tbody tr th:only-of-type {\n",
       "        vertical-align: middle;\n",
       "    }\n",
       "\n",
       "    .dataframe tbody tr th {\n",
       "        vertical-align: top;\n",
       "    }\n",
       "\n",
       "    .dataframe thead th {\n",
       "        text-align: right;\n",
       "    }\n",
       "</style>\n",
       "<table border=\"1\" class=\"dataframe\">\n",
       "  <thead>\n",
       "    <tr style=\"text-align: right;\">\n",
       "      <th></th>\n",
       "      <th>Unnamed: 0</th>\n",
       "      <th>HomePlanet</th>\n",
       "      <th>CryoSleep</th>\n",
       "      <th>Destination</th>\n",
       "      <th>Age</th>\n",
       "      <th>VIP</th>\n",
       "      <th>RoomService</th>\n",
       "      <th>FoodCourt</th>\n",
       "      <th>ShoppingMall</th>\n",
       "      <th>Spa</th>\n",
       "      <th>VRDeck</th>\n",
       "      <th>Transported</th>\n",
       "      <th>Side</th>\n",
       "    </tr>\n",
       "  </thead>\n",
       "  <tbody>\n",
       "    <tr>\n",
       "      <th>0</th>\n",
       "      <td>0</td>\n",
       "      <td>2.0</td>\n",
       "      <td>0.0</td>\n",
       "      <td>1.0</td>\n",
       "      <td>39.0</td>\n",
       "      <td>0.0</td>\n",
       "      <td>0.0</td>\n",
       "      <td>0.0</td>\n",
       "      <td>0.0</td>\n",
       "      <td>0.0</td>\n",
       "      <td>0.0</td>\n",
       "      <td>0.0</td>\n",
       "      <td>0.0</td>\n",
       "    </tr>\n",
       "    <tr>\n",
       "      <th>1</th>\n",
       "      <td>1</td>\n",
       "      <td>1.0</td>\n",
       "      <td>0.0</td>\n",
       "      <td>1.0</td>\n",
       "      <td>24.0</td>\n",
       "      <td>0.0</td>\n",
       "      <td>109.0</td>\n",
       "      <td>9.0</td>\n",
       "      <td>25.0</td>\n",
       "      <td>549.0</td>\n",
       "      <td>44.0</td>\n",
       "      <td>1.0</td>\n",
       "      <td>1.0</td>\n",
       "    </tr>\n",
       "    <tr>\n",
       "      <th>2</th>\n",
       "      <td>2</td>\n",
       "      <td>2.0</td>\n",
       "      <td>0.0</td>\n",
       "      <td>1.0</td>\n",
       "      <td>58.0</td>\n",
       "      <td>1.0</td>\n",
       "      <td>43.0</td>\n",
       "      <td>3576.0</td>\n",
       "      <td>0.0</td>\n",
       "      <td>6715.0</td>\n",
       "      <td>49.0</td>\n",
       "      <td>0.0</td>\n",
       "      <td>1.0</td>\n",
       "    </tr>\n",
       "    <tr>\n",
       "      <th>3</th>\n",
       "      <td>3</td>\n",
       "      <td>2.0</td>\n",
       "      <td>0.0</td>\n",
       "      <td>1.0</td>\n",
       "      <td>33.0</td>\n",
       "      <td>0.0</td>\n",
       "      <td>0.0</td>\n",
       "      <td>1283.0</td>\n",
       "      <td>371.0</td>\n",
       "      <td>3329.0</td>\n",
       "      <td>193.0</td>\n",
       "      <td>0.0</td>\n",
       "      <td>1.0</td>\n",
       "    </tr>\n",
       "    <tr>\n",
       "      <th>4</th>\n",
       "      <td>4</td>\n",
       "      <td>1.0</td>\n",
       "      <td>0.0</td>\n",
       "      <td>1.0</td>\n",
       "      <td>16.0</td>\n",
       "      <td>0.0</td>\n",
       "      <td>303.0</td>\n",
       "      <td>70.0</td>\n",
       "      <td>151.0</td>\n",
       "      <td>565.0</td>\n",
       "      <td>2.0</td>\n",
       "      <td>1.0</td>\n",
       "      <td>1.0</td>\n",
       "    </tr>\n",
       "    <tr>\n",
       "      <th>5</th>\n",
       "      <td>5</td>\n",
       "      <td>1.0</td>\n",
       "      <td>0.0</td>\n",
       "      <td>3.0</td>\n",
       "      <td>44.0</td>\n",
       "      <td>0.0</td>\n",
       "      <td>0.0</td>\n",
       "      <td>483.0</td>\n",
       "      <td>0.0</td>\n",
       "      <td>291.0</td>\n",
       "      <td>0.0</td>\n",
       "      <td>1.0</td>\n",
       "      <td>0.0</td>\n",
       "    </tr>\n",
       "    <tr>\n",
       "      <th>6</th>\n",
       "      <td>6</td>\n",
       "      <td>1.0</td>\n",
       "      <td>0.0</td>\n",
       "      <td>1.0</td>\n",
       "      <td>26.0</td>\n",
       "      <td>0.0</td>\n",
       "      <td>42.0</td>\n",
       "      <td>1539.0</td>\n",
       "      <td>3.0</td>\n",
       "      <td>0.0</td>\n",
       "      <td>0.0</td>\n",
       "      <td>1.0</td>\n",
       "      <td>1.0</td>\n",
       "    </tr>\n",
       "    <tr>\n",
       "      <th>7</th>\n",
       "      <td>7</td>\n",
       "      <td>1.0</td>\n",
       "      <td>1.0</td>\n",
       "      <td>1.0</td>\n",
       "      <td>28.0</td>\n",
       "      <td>0.0</td>\n",
       "      <td>0.0</td>\n",
       "      <td>0.0</td>\n",
       "      <td>0.0</td>\n",
       "      <td>0.0</td>\n",
       "      <td>0.0</td>\n",
       "      <td>1.0</td>\n",
       "      <td>1.0</td>\n",
       "    </tr>\n",
       "    <tr>\n",
       "      <th>8</th>\n",
       "      <td>8</td>\n",
       "      <td>1.0</td>\n",
       "      <td>0.0</td>\n",
       "      <td>1.0</td>\n",
       "      <td>35.0</td>\n",
       "      <td>0.0</td>\n",
       "      <td>0.0</td>\n",
       "      <td>785.0</td>\n",
       "      <td>17.0</td>\n",
       "      <td>216.0</td>\n",
       "      <td>0.0</td>\n",
       "      <td>1.0</td>\n",
       "      <td>1.0</td>\n",
       "    </tr>\n",
       "    <tr>\n",
       "      <th>9</th>\n",
       "      <td>9</td>\n",
       "      <td>2.0</td>\n",
       "      <td>1.0</td>\n",
       "      <td>2.0</td>\n",
       "      <td>14.0</td>\n",
       "      <td>0.0</td>\n",
       "      <td>0.0</td>\n",
       "      <td>0.0</td>\n",
       "      <td>0.0</td>\n",
       "      <td>0.0</td>\n",
       "      <td>0.0</td>\n",
       "      <td>1.0</td>\n",
       "      <td>0.0</td>\n",
       "    </tr>\n",
       "  </tbody>\n",
       "</table>\n",
       "</div>"
      ],
      "text/plain": [
       "   Unnamed: 0  HomePlanet  CryoSleep  Destination   Age  VIP  RoomService  \\\n",
       "0           0         2.0        0.0          1.0  39.0  0.0          0.0   \n",
       "1           1         1.0        0.0          1.0  24.0  0.0        109.0   \n",
       "2           2         2.0        0.0          1.0  58.0  1.0         43.0   \n",
       "3           3         2.0        0.0          1.0  33.0  0.0          0.0   \n",
       "4           4         1.0        0.0          1.0  16.0  0.0        303.0   \n",
       "5           5         1.0        0.0          3.0  44.0  0.0          0.0   \n",
       "6           6         1.0        0.0          1.0  26.0  0.0         42.0   \n",
       "7           7         1.0        1.0          1.0  28.0  0.0          0.0   \n",
       "8           8         1.0        0.0          1.0  35.0  0.0          0.0   \n",
       "9           9         2.0        1.0          2.0  14.0  0.0          0.0   \n",
       "\n",
       "   FoodCourt  ShoppingMall     Spa  VRDeck  Transported  Side  \n",
       "0        0.0           0.0     0.0     0.0          0.0   0.0  \n",
       "1        9.0          25.0   549.0    44.0          1.0   1.0  \n",
       "2     3576.0           0.0  6715.0    49.0          0.0   1.0  \n",
       "3     1283.0         371.0  3329.0   193.0          0.0   1.0  \n",
       "4       70.0         151.0   565.0     2.0          1.0   1.0  \n",
       "5      483.0           0.0   291.0     0.0          1.0   0.0  \n",
       "6     1539.0           3.0     0.0     0.0          1.0   1.0  \n",
       "7        0.0           0.0     0.0     0.0          1.0   1.0  \n",
       "8      785.0          17.0   216.0     0.0          1.0   1.0  \n",
       "9        0.0           0.0     0.0     0.0          1.0   0.0  "
      ]
     },
     "execution_count": 3,
     "metadata": {},
     "output_type": "execute_result"
    }
   ],
   "source": [
    "train.head(10)"
   ]
  },
  {
   "cell_type": "code",
   "execution_count": 4,
   "id": "0178827d",
   "metadata": {
    "ExecuteTime": {
     "end_time": "2024-01-27T09:54:46.644162300Z",
     "start_time": "2024-01-27T09:54:46.564148700Z"
    },
    "collapsed": false,
    "execution": {
     "iopub.execute_input": "2024-01-27T10:04:45.743296Z",
     "iopub.status.busy": "2024-01-27T10:04:45.743296Z",
     "iopub.status.idle": "2024-01-27T10:04:45.880715Z",
     "shell.execute_reply": "2024-01-27T10:04:45.880715Z"
    },
    "papermill": {
     "duration": 0.150429,
     "end_time": "2024-01-27T10:04:45.880715",
     "exception": false,
     "start_time": "2024-01-27T10:04:45.730286",
     "status": "completed"
    },
    "tags": []
   },
   "outputs": [],
   "source": [
    "from sklearn.preprocessing import StandardScaler\n",
    "sc = StandardScaler()\n",
    "X_train = train.drop('Transported', axis = 1)\n",
    "y_train = train['Transported']\n",
    "X_test = test.copy()\n",
    "X_train = sc.fit_transform(X_train)\n",
    "X_test = sc.transform(X_test)"
   ]
  },
  {
   "cell_type": "code",
   "execution_count": 5,
   "id": "b99060d1",
   "metadata": {
    "ExecuteTime": {
     "end_time": "2024-01-27T09:54:47.395115700Z",
     "start_time": "2024-01-27T09:54:47.363645100Z"
    },
    "execution": {
     "iopub.execute_input": "2024-01-27T10:04:45.888722Z",
     "iopub.status.busy": "2024-01-27T10:04:45.888722Z",
     "iopub.status.idle": "2024-01-27T10:04:46.047094Z",
     "shell.execute_reply": "2024-01-27T10:04:46.047094Z"
    },
    "papermill": {
     "duration": 0.166379,
     "end_time": "2024-01-27T10:04:46.047094",
     "exception": false,
     "start_time": "2024-01-27T10:04:45.880715",
     "status": "completed"
    },
    "tags": []
   },
   "outputs": [],
   "source": [
    "from sklearn.linear_model import LogisticRegression\n",
    "from sklearn.model_selection import train_test_split\n",
    "from sklearn.metrics import accuracy_score"
   ]
  },
  {
   "cell_type": "code",
   "execution_count": 6,
   "id": "6e7192ed",
   "metadata": {
    "ExecuteTime": {
     "end_time": "2024-01-27T09:54:52.402058800Z",
     "start_time": "2024-01-27T09:54:52.358512300Z"
    },
    "execution": {
     "iopub.execute_input": "2024-01-27T10:04:46.061598Z",
     "iopub.status.busy": "2024-01-27T10:04:46.061598Z",
     "iopub.status.idle": "2024-01-27T10:04:46.070432Z",
     "shell.execute_reply": "2024-01-27T10:04:46.070432Z"
    },
    "papermill": {
     "duration": 0.023338,
     "end_time": "2024-01-27T10:04:46.070432",
     "exception": false,
     "start_time": "2024-01-27T10:04:46.047094",
     "status": "completed"
    },
    "tags": []
   },
   "outputs": [],
   "source": [
    "X_train, X_val, y_train,y_val = train_test_split(X_train, y_train, test_size = 0.3)"
   ]
  },
  {
   "cell_type": "markdown",
   "id": "15117735",
   "metadata": {
    "papermill": {
     "duration": 0.0,
     "end_time": "2024-01-27T10:04:46.077443",
     "exception": false,
     "start_time": "2024-01-27T10:04:46.077443",
     "status": "completed"
    },
    "tags": []
   },
   "source": [
    "# Логистическая регрессия"
   ]
  },
  {
   "cell_type": "code",
   "execution_count": 7,
   "id": "745bcd7a",
   "metadata": {
    "ExecuteTime": {
     "end_time": "2024-01-27T09:54:53.239839400Z",
     "start_time": "2024-01-27T09:54:53.172378500Z"
    },
    "execution": {
     "iopub.execute_input": "2024-01-27T10:04:46.093074Z",
     "iopub.status.busy": "2024-01-27T10:04:46.093074Z",
     "iopub.status.idle": "2024-01-27T10:04:46.126456Z",
     "shell.execute_reply": "2024-01-27T10:04:46.126456Z"
    },
    "papermill": {
     "duration": 0.049013,
     "end_time": "2024-01-27T10:04:46.126456",
     "exception": false,
     "start_time": "2024-01-27T10:04:46.077443",
     "status": "completed"
    },
    "tags": []
   },
   "outputs": [
    {
     "name": "stdout",
     "output_type": "stream",
     "text": [
      "ACCURACY =  0.7906441717791411\n"
     ]
    }
   ],
   "source": [
    "clf = LogisticRegression(random_state = 0)\n",
    "clf.fit(X_train,y_train)\n",
    "pred = clf.predict(X_val)\n",
    "acc_log_reg = accuracy_score(y_val,pred)\n",
    "\n",
    "print(\"ACCURACY = \", acc_log_reg)"
   ]
  },
  {
   "cell_type": "code",
   "execution_count": 8,
   "id": "02c5b8bb",
   "metadata": {
    "ExecuteTime": {
     "end_time": "2024-01-27T09:54:53.833639700Z",
     "start_time": "2024-01-27T09:54:53.802122600Z"
    },
    "execution": {
     "iopub.execute_input": "2024-01-27T10:04:46.140466Z",
     "iopub.status.busy": "2024-01-27T10:04:46.140466Z",
     "iopub.status.idle": "2024-01-27T10:04:46.147456Z",
     "shell.execute_reply": "2024-01-27T10:04:46.147456Z"
    },
    "papermill": {
     "duration": 0.021,
     "end_time": "2024-01-27T10:04:46.147456",
     "exception": false,
     "start_time": "2024-01-27T10:04:46.126456",
     "status": "completed"
    },
    "tags": []
   },
   "outputs": [],
   "source": [
    "f_importances_log_reg = pd.DataFrame( data = {\n",
    "    'Feature': train.columns.drop('Transported'),\n",
    "    'Importance': abs(clf.coef_[0])\n",
    "})"
   ]
  },
  {
   "cell_type": "code",
   "execution_count": 9,
   "id": "84141f7a",
   "metadata": {
    "ExecuteTime": {
     "end_time": "2024-01-27T09:54:54.116823200Z",
     "start_time": "2024-01-27T09:54:54.101007Z"
    },
    "collapsed": false,
    "execution": {
     "iopub.execute_input": "2024-01-27T10:04:46.156462Z",
     "iopub.status.busy": "2024-01-27T10:04:46.156462Z",
     "iopub.status.idle": "2024-01-27T10:04:46.176474Z",
     "shell.execute_reply": "2024-01-27T10:04:46.176474Z"
    },
    "papermill": {
     "duration": 0.020012,
     "end_time": "2024-01-27T10:04:46.176474",
     "exception": false,
     "start_time": "2024-01-27T10:04:46.156462",
     "status": "completed"
    },
    "tags": []
   },
   "outputs": [
    {
     "data": {
      "text/html": [
       "<div>\n",
       "<style scoped>\n",
       "    .dataframe tbody tr th:only-of-type {\n",
       "        vertical-align: middle;\n",
       "    }\n",
       "\n",
       "    .dataframe tbody tr th {\n",
       "        vertical-align: top;\n",
       "    }\n",
       "\n",
       "    .dataframe thead th {\n",
       "        text-align: right;\n",
       "    }\n",
       "</style>\n",
       "<table border=\"1\" class=\"dataframe\">\n",
       "  <thead>\n",
       "    <tr style=\"text-align: right;\">\n",
       "      <th></th>\n",
       "      <th>Feature</th>\n",
       "      <th>Importance</th>\n",
       "    </tr>\n",
       "  </thead>\n",
       "  <tbody>\n",
       "    <tr>\n",
       "      <th>0</th>\n",
       "      <td>Unnamed: 0</td>\n",
       "      <td>0.088592</td>\n",
       "    </tr>\n",
       "    <tr>\n",
       "      <th>1</th>\n",
       "      <td>HomePlanet</td>\n",
       "      <td>0.423259</td>\n",
       "    </tr>\n",
       "    <tr>\n",
       "      <th>2</th>\n",
       "      <td>CryoSleep</td>\n",
       "      <td>0.700388</td>\n",
       "    </tr>\n",
       "    <tr>\n",
       "      <th>3</th>\n",
       "      <td>Destination</td>\n",
       "      <td>0.093373</td>\n",
       "    </tr>\n",
       "    <tr>\n",
       "      <th>4</th>\n",
       "      <td>Age</td>\n",
       "      <td>0.076200</td>\n",
       "    </tr>\n",
       "    <tr>\n",
       "      <th>5</th>\n",
       "      <td>VIP</td>\n",
       "      <td>0.026175</td>\n",
       "    </tr>\n",
       "    <tr>\n",
       "      <th>6</th>\n",
       "      <td>RoomService</td>\n",
       "      <td>1.173280</td>\n",
       "    </tr>\n",
       "    <tr>\n",
       "      <th>7</th>\n",
       "      <td>FoodCourt</td>\n",
       "      <td>1.138415</td>\n",
       "    </tr>\n",
       "    <tr>\n",
       "      <th>8</th>\n",
       "      <td>ShoppingMall</td>\n",
       "      <td>0.287753</td>\n",
       "    </tr>\n",
       "    <tr>\n",
       "      <th>9</th>\n",
       "      <td>Spa</td>\n",
       "      <td>1.878004</td>\n",
       "    </tr>\n",
       "    <tr>\n",
       "      <th>10</th>\n",
       "      <td>VRDeck</td>\n",
       "      <td>1.646191</td>\n",
       "    </tr>\n",
       "    <tr>\n",
       "      <th>11</th>\n",
       "      <td>Side</td>\n",
       "      <td>0.296537</td>\n",
       "    </tr>\n",
       "  </tbody>\n",
       "</table>\n",
       "</div>"
      ],
      "text/plain": [
       "         Feature  Importance\n",
       "0     Unnamed: 0    0.088592\n",
       "1     HomePlanet    0.423259\n",
       "2      CryoSleep    0.700388\n",
       "3    Destination    0.093373\n",
       "4            Age    0.076200\n",
       "5            VIP    0.026175\n",
       "6    RoomService    1.173280\n",
       "7      FoodCourt    1.138415\n",
       "8   ShoppingMall    0.287753\n",
       "9            Spa    1.878004\n",
       "10        VRDeck    1.646191\n",
       "11          Side    0.296537"
      ]
     },
     "execution_count": 9,
     "metadata": {},
     "output_type": "execute_result"
    }
   ],
   "source": [
    "f_importances_log_reg"
   ]
  },
  {
   "cell_type": "code",
   "execution_count": 10,
   "id": "636541d4",
   "metadata": {
    "ExecuteTime": {
     "end_time": "2024-01-27T09:54:54.916772900Z",
     "start_time": "2024-01-27T09:54:54.885154800Z"
    },
    "collapsed": false,
    "execution": {
     "iopub.execute_input": "2024-01-27T10:04:46.187985Z",
     "iopub.status.busy": "2024-01-27T10:04:46.187985Z",
     "iopub.status.idle": "2024-01-27T10:04:46.196122Z",
     "shell.execute_reply": "2024-01-27T10:04:46.196122Z"
    },
    "papermill": {
     "duration": 0.021662,
     "end_time": "2024-01-27T10:04:46.198136",
     "exception": false,
     "start_time": "2024-01-27T10:04:46.176474",
     "status": "completed"
    },
    "tags": []
   },
   "outputs": [],
   "source": [
    "import os"
   ]
  },
  {
   "cell_type": "code",
   "execution_count": 11,
   "id": "a14b5cf4",
   "metadata": {
    "ExecuteTime": {
     "end_time": "2024-01-27T09:54:55.401702600Z",
     "start_time": "2024-01-27T09:54:55.385727400Z"
    },
    "collapsed": false,
    "execution": {
     "iopub.execute_input": "2024-01-27T10:04:46.203647Z",
     "iopub.status.busy": "2024-01-27T10:04:46.203647Z",
     "iopub.status.idle": "2024-01-27T10:04:46.223307Z",
     "shell.execute_reply": "2024-01-27T10:04:46.223307Z"
    },
    "papermill": {
     "duration": 0.01966,
     "end_time": "2024-01-27T10:04:46.223307",
     "exception": false,
     "start_time": "2024-01-27T10:04:46.203647",
     "status": "completed"
    },
    "tags": []
   },
   "outputs": [
    {
     "name": "stdout",
     "output_type": "stream",
     "text": [
      "done\n"
     ]
    }
   ],
   "source": [
    "output = os.path.join(\"model_results\", \"logistic_reg_importances.csv\")\n",
    "\n",
    "fd_out = open(output, \"w\", encoding=\"utf-8\")\n",
    "\n",
    "fd_out.write(f_importances_log_reg.to_csv())\n",
    "\n",
    "print('done')"
   ]
  },
  {
   "cell_type": "code",
   "execution_count": null,
   "id": "5af2bc9c",
   "metadata": {
    "collapsed": false,
    "papermill": {
     "duration": 0.012009,
     "end_time": "2024-01-27T10:04:46.235316",
     "exception": false,
     "start_time": "2024-01-27T10:04:46.223307",
     "status": "completed"
    },
    "tags": []
   },
   "outputs": [],
   "source": []
  }
 ],
 "metadata": {
  "kernelspec": {
   "display_name": "Python 3 (ipykernel)",
   "language": "python",
   "name": "python3"
  },
  "language_info": {
   "codemirror_mode": {
    "name": "ipython",
    "version": 3
   },
   "file_extension": ".py",
   "mimetype": "text/x-python",
   "name": "python",
   "nbconvert_exporter": "python",
   "pygments_lexer": "ipython3",
   "version": "3.11.5"
  },
  "papermill": {
   "default_parameters": {},
   "duration": 4.94559,
   "end_time": "2024-01-27T10:04:46.820265",
   "environment_variables": {},
   "exception": null,
   "input_path": "C:\\Users\\kate\\DataspellProjects\\pythonProject\\st_logistic_regression.ipynb",
   "output_path": "C:\\Users\\kate\\DataspellProjects\\pythonProject\\st_logistic_regression.ipynb",
   "parameters": {},
   "start_time": "2024-01-27T10:04:41.874675",
   "version": "2.5.0"
  }
 },
 "nbformat": 4,
 "nbformat_minor": 5
}